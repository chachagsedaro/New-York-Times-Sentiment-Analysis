{
 "cells": [
  {
   "cell_type": "code",
   "execution_count": null,
   "id": "b0e627e7",
   "metadata": {},
   "outputs": [],
   "source": [
    "import os\n",
    "import json\n",
    "import time\n",
    "import requests\n",
    "import datetime\n",
    "import dateutil\n",
    "import pandas as pd\n",
    "from dateutil.relativedelta import relativedelta\n",
    "from nltk.sentiment import SentimentIntensityAnalyzer\n",
    "\n",
    "\n",
    "end = datetime.date.today()\n",
    "start = end - relativedelta(years=1)\n",
    "\n",
    "api = f\"https://api.nytimes.com/svc/search/v2/articlesearch.json?q=election&api-key=YOUR_API_KEY_HERE\"\n",
    "url = 'https://api.nytimes.com/svc/search/v2/articlesearch.json?q=election&api-key=YOUR_API_KEY_HERE'\n"
   ]
  },
  {
   "cell_type": "code",
   "execution_count": null,
   "id": "d0edded5",
   "metadata": {},
   "outputs": [],
   "source": [
    "api_key = \"YOUR_API_KEY_HERE\" # replace with your NYT Archive API key\n",
    "base_url = \"https://api.nytimes.com/svc/archive/v1/{}/{}.json?api-key={}\"\n",
    "\n",
    "analyzer = SentimentIntensityAnalyzer() # initialize VADER\n",
    "\n",
    "start_year = 2013 # replace with your desired start year\n",
    "end_year = 2023 # replace with your desired end year\n",
    "\n",
    "articles = []\n",
    "\n",
    "for year in range(start_year, end_year):\n",
    "    for month in range(1, 13):\n",
    "        time.sleep(6) # add a delay to avoid hitting the API rate limit\n",
    "        url = base_url.format(year, month, api_key)\n",
    "        response = requests.get(url)\n",
    "        data = response.json()\n",
    "        for article in data[\"response\"][\"docs\"]:\n",
    "            parsed_article = {\n",
    "                \"abstract\": article.get(\"abstract\"),\n",
    "                \"headline\": article.get(\"headline\", {}).get(\"main\"),\n",
    "                \"document_type\": article.get(\"document_type\"),\n",
    "                \"section_name\": article.get(\"section_name\"),\n",
    "                \"pub_date\": pd.to_datetime(article.get(\"pub_date\")).strftime(\"%Y-%m\")\n",
    "            }\n",
    "            parsed_article[\"sentiment_score\"] = analyzer.polarity_scores(parsed_article[\"headline\"])[\"compound\"]\n",
    "            if parsed_article[\"sentiment_score\"] >= 0.25:\n",
    "                parsed_article[\"sentiment_category\"] = \"Positive\"\n",
    "            elif parsed_article[\"sentiment_score\"] <= -0.25:\n",
    "                parsed_article[\"sentiment_category\"] = \"Negative\"\n",
    "            else:\n",
    "                parsed_article[\"sentiment_category\"] = \"Moderate\"\n",
    "            articles.append(parsed_article)\n",
    "df = pd.DataFrame(articles)"
   ]
  },
  {
   "cell_type": "code",
   "execution_count": null,
   "id": "4fae12f0",
   "metadata": {},
   "outputs": [],
   "source": [
    "df.head()"
   ]
  },
  {
   "cell_type": "code",
   "execution_count": null,
   "id": "21bd6989",
   "metadata": {},
   "outputs": [],
   "source": [
    "#get_data(months_in_range)\n"
   ]
  },
  {
   "cell_type": "code",
   "execution_count": null,
   "id": "b57cb4da",
   "metadata": {},
   "outputs": [],
   "source": [
    "#slow nlp below\n",
    "\n",
    "#from transformers import pipeline\n",
    "#sentiment_pipeline = pipeline('sentiment-analysis')\n",
    "\n",
    "#def get_sentiment_score(text):\n",
    "   # result = sentiment_pipeline(text)[0]\n",
    "    #score = result['score']\n",
    "   # label = result['label']\n",
    "   # return score if label == 'POSITIVE' else -score  # normalize score to [-1, 1]\n",
    "\n",
    "#df['sentiment_score'] = df['headline'].apply(get_sentiment_score)\n",
    "\n"
   ]
  },
  {
   "cell_type": "code",
   "execution_count": null,
   "id": "848dc43f",
   "metadata": {},
   "outputs": [],
   "source": [
    "df.head()"
   ]
  },
  {
   "cell_type": "code",
   "execution_count": null,
   "id": "dca72d19",
   "metadata": {},
   "outputs": [],
   "source": [
    "import matplotlib.pyplot as plt\n",
    "\n",
    "# Subset dataframe to only include sentiment_score and date columns\n",
    "df_subset = df[['pub_date', 'sentiment_score','sentiment_category']]\n",
    "\n",
    "# Group by date and sentiment to get counts per day for each sentiment\n",
    "df_counts = df_subset.groupby(['pub_date', 'sentiment_category']).size().reset_index(name='count')\n",
    "\n",
    "# Pivot the dataframe to get positive and negative counts as separate columns\n",
    "df_pivot = df_counts.pivot(index='pub_date', columns='sentiment_category', values='count')\n",
    "\n",
    "# Create the plot\n",
    "fig, ax = plt.subplots()\n",
    "df_pivot.plot(ax=ax)\n",
    "ax.set_xlabel('Date')\n",
    "ax.set_ylabel('Count')\n",
    "ax.set_title('Number of Positive and Negative Articles per Day')\n",
    "ax.legend()\n",
    "ax.get_legend().set_title(\"Sentiment\")\n",
    "\n",
    "plt.show()\n"
   ]
  },
  {
   "cell_type": "code",
   "execution_count": null,
   "id": "2f3dda0d",
   "metadata": {},
   "outputs": [],
   "source": [
    "import plotly.express as px\n",
    "\n",
    "df2 = df[['headline', 'pub_date', 'section_name', 'sentiment_score']].copy()\n",
    "\n",
    "df2['pub_date'] = pd.to_datetime(df2['pub_date'])\n",
    "\n",
    "fig = px.scatter(df2, x='pub_date', y='sentiment_score', color='section_name',\n",
    "                 hover_name='headline', title='Sentiment Analysis by Material Type')\n",
    "fig.update_layout(xaxis_range=['2013-01', '2023-03'])\n",
    "fig.show()"
   ]
  },
  {
   "cell_type": "code",
   "execution_count": null,
   "id": "ee513db4",
   "metadata": {},
   "outputs": [],
   "source": [
    "df_pivot = df.pivot_table(index=\"pub_date\", columns=\"sentiment_category\", values=\"headline\", aggfunc=\"count\", fill_value=0)\n",
    "df_pivot[\"Total Articles\"] = df_pivot.sum(axis=1)\n",
    "\n",
    "fig = px.line(df_pivot, x=df_pivot.index, y=[\"Moderate\", \"Positive\", \"Negative\", \"Total Articles\"],\n",
    "              title=\"Sentiment Categories and Total Articles Over Time\")\n",
    "fig.show()"
   ]
  },
  {
   "cell_type": "code",
   "execution_count": null,
   "id": "114a6b54",
   "metadata": {},
   "outputs": [],
   "source": [
    "df_pivot = df.pivot_table(index=\"pub_date\", columns=\"section_name\", values=\"sentiment_score\", aggfunc=\"mean\")\n",
    "\n",
    "fig = px.line(df_pivot, x=df_pivot.index, y=df_pivot.columns, title=\"Average Monthly Sentiment by Section\")\n",
    "fig.update_layout(xaxis_range=['2013-01', '2023-03']) # set the X axis range from 2013 to 2022\n",
    "fig.show()"
   ]
  },
  {
   "cell_type": "code",
   "execution_count": null,
   "id": "4ddf0ef4",
   "metadata": {},
   "outputs": [],
   "source": []
  },
  {
   "cell_type": "code",
   "execution_count": null,
   "id": "9f60c8b2",
   "metadata": {},
   "outputs": [],
   "source": []
  },
  {
   "cell_type": "code",
   "execution_count": null,
   "id": "479c19c2",
   "metadata": {},
   "outputs": [],
   "source": []
  }
 ],
 "metadata": {
  "kernelspec": {
   "display_name": "Python 3 (ipykernel)",
   "language": "python",
   "name": "python3"
  },
  "language_info": {
   "codemirror_mode": {
    "name": "ipython",
    "version": 3
   },
   "file_extension": ".py",
   "mimetype": "text/x-python",
   "name": "python",
   "nbconvert_exporter": "python",
   "pygments_lexer": "ipython3",
   "version": "3.9.12"
  }
 },
 "nbformat": 4,
 "nbformat_minor": 5
}
